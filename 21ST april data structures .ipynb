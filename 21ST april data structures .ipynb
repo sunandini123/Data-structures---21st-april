{
 "cells": [
  {
   "cell_type": "markdown",
   "id": "35b353aa-f3ea-400d-b560-c98feb38635c",
   "metadata": {},
   "source": [
    "## LIST OF DATA STRUCTURES "
   ]
  },
  {
   "cell_type": "code",
   "execution_count": null,
   "id": "1815605a-61a8-4084-993f-2581265ef230",
   "metadata": {},
   "outputs": [],
   "source": [
    "DATA STRUCTURE MEANS MORE THAN ONE DATA TYPE "
   ]
  },
  {
   "cell_type": "code",
   "execution_count": null,
   "id": "2def20b9-53d1-4e7f-90be-d8e1e56fbe50",
   "metadata": {},
   "outputs": [],
   "source": [
    "inbuild - \n",
    "\n",
    "LIST \n",
    "TUPLE \n",
    "SET \n",
    "DICT"
   ]
  },
  {
   "cell_type": "code",
   "execution_count": null,
   "id": "3d7ec7c8-1eb3-482b-bc51-62225bef64a4",
   "metadata": {},
   "outputs": [],
   "source": [
    "USER DEFINED \n",
    "\n",
    "ARRAY\n",
    "TREE\n",
    "STACK\n",
    "QUEUE \n",
    "GRAPH "
   ]
  },
  {
   "cell_type": "markdown",
   "id": "8c5a627c-4e3f-40a6-a892-c36779928440",
   "metadata": {},
   "source": [
    "# LIST "
   ]
  },
  {
   "cell_type": "code",
   "execution_count": 3,
   "id": "dea077e1-fd6f-44ce-9472-bdcbf174ae19",
   "metadata": {},
   "outputs": [
    {
     "ename": "SyntaxError",
     "evalue": "cannot assign to literal here. Maybe you meant '==' instead of '='? (2962404978.py, line 1)",
     "output_type": "error",
     "traceback": [
      "\u001b[0;36m  Cell \u001b[0;32mIn[3], line 1\u001b[0;36m\u001b[0m\n\u001b[0;31m    1=[]\u001b[0m\n\u001b[0m    ^\u001b[0m\n\u001b[0;31mSyntaxError\u001b[0m\u001b[0;31m:\u001b[0m cannot assign to literal here. Maybe you meant '==' instead of '='?\n"
     ]
    }
   ],
   "source": [
    "1=[]\n",
    "1"
   ]
  },
  {
   "cell_type": "code",
   "execution_count": 5,
   "id": "7c922abb-3de8-489e-821f-476a78001943",
   "metadata": {},
   "outputs": [
    {
     "data": {
      "text/plain": [
       "[]"
      ]
     },
     "execution_count": 5,
     "metadata": {},
     "output_type": "execute_result"
    }
   ],
   "source": [
    "l =[]\n",
    "l"
   ]
  },
  {
   "cell_type": "code",
   "execution_count": null,
   "id": "2c41cb36-35c1-4128-9f4b-f7d49b54e250",
   "metadata": {},
   "outputs": [],
   "source": [
    "L not I \n"
   ]
  },
  {
   "cell_type": "code",
   "execution_count": null,
   "id": "1a0f667f-e8a7-4dea-8b02-4ad1ab6b0db5",
   "metadata": {},
   "outputs": [],
   "source": []
  },
  {
   "cell_type": "code",
   "execution_count": 7,
   "id": "9bf628f7-7249-49d4-83e4-a342c890559f",
   "metadata": {},
   "outputs": [],
   "source": [
    "l.append(10)"
   ]
  },
  {
   "cell_type": "code",
   "execution_count": 9,
   "id": "8b218568-16c6-4ec1-a9a4-037a36ce9ffd",
   "metadata": {},
   "outputs": [
    {
     "data": {
      "text/plain": [
       "[10]"
      ]
     },
     "execution_count": 9,
     "metadata": {},
     "output_type": "execute_result"
    }
   ],
   "source": [
    "l"
   ]
  },
  {
   "cell_type": "code",
   "execution_count": 11,
   "id": "2978bb9f-a28b-4892-adb2-7aeda9aab582",
   "metadata": {},
   "outputs": [
    {
     "data": {
      "text/plain": [
       "[10, 20]"
      ]
     },
     "execution_count": 11,
     "metadata": {},
     "output_type": "execute_result"
    }
   ],
   "source": [
    "l.append(20)\n",
    "l"
   ]
  },
  {
   "cell_type": "code",
   "execution_count": 13,
   "id": "74292579-d9f6-47b3-bd74-164518fede4b",
   "metadata": {},
   "outputs": [
    {
     "data": {
      "text/plain": [
       "[10, 20]"
      ]
     },
     "execution_count": 13,
     "metadata": {},
     "output_type": "execute_result"
    }
   ],
   "source": [
    "l"
   ]
  },
  {
   "cell_type": "code",
   "execution_count": 15,
   "id": "efb08ea1-307b-4935-ab6b-0b03d53fc242",
   "metadata": {},
   "outputs": [],
   "source": [
    "l.append(10)\n",
    "l.append(20)\n",
    "l.append(30)\n",
    "l.append(40)\n",
    "l.append(50)\n",
    "l.append(60)"
   ]
  },
  {
   "cell_type": "code",
   "execution_count": 17,
   "id": "e6b1f095-d695-4b41-91e8-7088db827a73",
   "metadata": {},
   "outputs": [
    {
     "data": {
      "text/plain": [
       "[10, 20, 10, 20, 30, 40, 50, 60]"
      ]
     },
     "execution_count": 17,
     "metadata": {},
     "output_type": "execute_result"
    }
   ],
   "source": [
    "l"
   ]
  },
  {
   "cell_type": "code",
   "execution_count": 19,
   "id": "03f9f1a8-daa6-4460-90c7-d66c6794e349",
   "metadata": {},
   "outputs": [
    {
     "ename": "TypeError",
     "evalue": "list.append() takes exactly one argument (3 given)",
     "output_type": "error",
     "traceback": [
      "\u001b[0;31m---------------------------------------------------------------------------\u001b[0m",
      "\u001b[0;31mTypeError\u001b[0m                                 Traceback (most recent call last)",
      "Cell \u001b[0;32mIn[19], line 1\u001b[0m\n\u001b[0;32m----> 1\u001b[0m l\u001b[38;5;241m.\u001b[39mappend(\u001b[38;5;241m70\u001b[39m,\u001b[38;5;241m80\u001b[39m,\u001b[38;5;241m90\u001b[39m)\n",
      "\u001b[0;31mTypeError\u001b[0m: list.append() takes exactly one argument (3 given)"
     ]
    }
   ],
   "source": [
    "l.append(70,80,90)"
   ]
  },
  {
   "cell_type": "code",
   "execution_count": 21,
   "id": "df049eee-8ac0-46e0-87aa-73fd147a491c",
   "metadata": {},
   "outputs": [
    {
     "data": {
      "text/plain": [
       "[10, 20, 10, 20, 30, 40, 50, 60]"
      ]
     },
     "execution_count": 21,
     "metadata": {},
     "output_type": "execute_result"
    }
   ],
   "source": [
    "l"
   ]
  },
  {
   "cell_type": "code",
   "execution_count": 23,
   "id": "a06280af-e3dd-4be8-99a1-cbec75a429ac",
   "metadata": {},
   "outputs": [],
   "source": [
    "l.append(10)"
   ]
  },
  {
   "cell_type": "code",
   "execution_count": 25,
   "id": "55e5aaf2-efcd-4d69-97f9-bd39adb28861",
   "metadata": {},
   "outputs": [
    {
     "data": {
      "text/plain": [
       "[10, 20, 10, 20, 30, 40, 50, 60, 10]"
      ]
     },
     "execution_count": 25,
     "metadata": {},
     "output_type": "execute_result"
    }
   ],
   "source": [
    "l"
   ]
  },
  {
   "cell_type": "code",
   "execution_count": null,
   "id": "1aecf52b-2ed5-461b-b8a5-c9e5818e1403",
   "metadata": {},
   "outputs": [],
   "source": [
    "Duplicate is also allowed in the list as 10 is added in the last"
   ]
  },
  {
   "cell_type": "code",
   "execution_count": 28,
   "id": "08be08ac-12c4-41e6-bd93-04057386681a",
   "metadata": {},
   "outputs": [
    {
     "data": {
      "text/plain": [
       "9"
      ]
     },
     "execution_count": 28,
     "metadata": {},
     "output_type": "execute_result"
    }
   ],
   "source": [
    "len(l)"
   ]
  },
  {
   "cell_type": "code",
   "execution_count": 30,
   "id": "821ac3d7-23e1-40dc-91d4-65311d4b2bc9",
   "metadata": {},
   "outputs": [
    {
     "ename": "NameError",
     "evalue": "name 'l1' is not defined",
     "output_type": "error",
     "traceback": [
      "\u001b[0;31m---------------------------------------------------------------------------\u001b[0m",
      "\u001b[0;31mNameError\u001b[0m                                 Traceback (most recent call last)",
      "Cell \u001b[0;32mIn[30], line 1\u001b[0m\n\u001b[0;32m----> 1\u001b[0m l1\n",
      "\u001b[0;31mNameError\u001b[0m: name 'l1' is not defined"
     ]
    }
   ],
   "source": [
    "l1"
   ]
  },
  {
   "cell_type": "code",
   "execution_count": 37,
   "id": "29a7dbf6-bacf-4d4c-9e66-3fab21dbf121",
   "metadata": {},
   "outputs": [],
   "source": [
    "l1 = l.copy()"
   ]
  },
  {
   "cell_type": "code",
   "execution_count": 39,
   "id": "6492584f-dec8-4826-b244-3fe767c401a0",
   "metadata": {},
   "outputs": [
    {
     "data": {
      "text/plain": [
       "[10, 20, 10, 20, 30, 40, 50, 60, 10]"
      ]
     },
     "execution_count": 39,
     "metadata": {},
     "output_type": "execute_result"
    }
   ],
   "source": [
    "l1"
   ]
  },
  {
   "cell_type": "code",
   "execution_count": 41,
   "id": "9a4bdae2-7370-4709-96c4-0a524b2e0c66",
   "metadata": {},
   "outputs": [],
   "source": [
    "l1.append(3.2)\n",
    "l1.append(True)\n",
    "l1.append(2+3j)\n",
    "l1.append('nit')\n",
    "l1.append([1,2,3])"
   ]
  },
  {
   "cell_type": "code",
   "execution_count": 43,
   "id": "93cffdd1-b79d-4ea4-a8f1-0ee3cea7bbeb",
   "metadata": {},
   "outputs": [
    {
     "data": {
      "text/plain": [
       "[10, 20, 10, 20, 30, 40, 50, 60, 10, 3.2, True, (2+3j), 'nit', [1, 2, 3]]"
      ]
     },
     "execution_count": 43,
     "metadata": {},
     "output_type": "execute_result"
    }
   ],
   "source": [
    "l1"
   ]
  },
  {
   "cell_type": "code",
   "execution_count": 45,
   "id": "5e45924e-42f7-4679-9252-49407b8955e5",
   "metadata": {},
   "outputs": [
    {
     "name": "stdout",
     "output_type": "stream",
     "text": [
      "[10, 20, 10, 20, 30, 40, 50, 60, 10]\n",
      "[10, 20, 10, 20, 30, 40, 50, 60, 10, 3.2, True, (2+3j), 'nit', [1, 2, 3]]\n"
     ]
    }
   ],
   "source": [
    "print(l)\n",
    "print(l1)"
   ]
  },
  {
   "cell_type": "code",
   "execution_count": 47,
   "id": "ac53997f-0ecd-4083-ac77-7bf21b7e6e6d",
   "metadata": {},
   "outputs": [
    {
     "name": "stdout",
     "output_type": "stream",
     "text": [
      "9\n",
      "14\n"
     ]
    }
   ],
   "source": [
    "print(len(l))\n",
    "print(len(l1))"
   ]
  },
  {
   "cell_type": "code",
   "execution_count": 49,
   "id": "ff2d8175-3e1b-4df8-baa4-ba5e10967605",
   "metadata": {},
   "outputs": [
    {
     "data": {
      "text/plain": [
       "False"
      ]
     },
     "execution_count": 49,
     "metadata": {},
     "output_type": "execute_result"
    }
   ],
   "source": [
    "l == l1"
   ]
  },
  {
   "cell_type": "code",
   "execution_count": 55,
   "id": "13a9e3c1-f33e-45ae-95fe-313e834fe527",
   "metadata": {},
   "outputs": [
    {
     "data": {
      "text/plain": [
       "[10, 20, 10, 20, 30, 40, 50, 60, 10]"
      ]
     },
     "execution_count": 55,
     "metadata": {},
     "output_type": "execute_result"
    }
   ],
   "source": [
    "l[:]"
   ]
  },
  {
   "cell_type": "code",
   "execution_count": 57,
   "id": "1b3f8d6a-76e5-4427-9d30-2490965eb9a0",
   "metadata": {},
   "outputs": [
    {
     "data": {
      "text/plain": [
       "10"
      ]
     },
     "execution_count": 57,
     "metadata": {},
     "output_type": "execute_result"
    }
   ],
   "source": [
    "l[0]"
   ]
  },
  {
   "cell_type": "code",
   "execution_count": null,
   "id": "6ab5d960-729e-460f-8b79-72658abcbe08",
   "metadata": {},
   "outputs": [],
   "source": [
    "changing l[0]=100 mutable function "
   ]
  },
  {
   "cell_type": "code",
   "execution_count": 65,
   "id": "2d6e0f3f-67fb-48db-ba71-d3938883c6bd",
   "metadata": {},
   "outputs": [
    {
     "data": {
      "text/plain": [
       "[100, 20, 10, 20, 30, 40, 50, 60, 10]"
      ]
     },
     "execution_count": 65,
     "metadata": {},
     "output_type": "execute_result"
    }
   ],
   "source": [
    "l[0]=100\n",
    "l"
   ]
  },
  {
   "cell_type": "code",
   "execution_count": 67,
   "id": "b494da6a-69fc-424e-9bed-b365e5083773",
   "metadata": {},
   "outputs": [
    {
     "data": {
      "text/plain": [
       "[20, 30, 40, 50, 60, 10]"
      ]
     },
     "execution_count": 67,
     "metadata": {},
     "output_type": "execute_result"
    }
   ],
   "source": [
    "l[3:]"
   ]
  },
  {
   "cell_type": "code",
   "execution_count": 69,
   "id": "a476dee1-643d-45a7-a6de-cc6e66c859b5",
   "metadata": {},
   "outputs": [
    {
     "ename": "IndexError",
     "evalue": "list index out of range",
     "output_type": "error",
     "traceback": [
      "\u001b[0;31m---------------------------------------------------------------------------\u001b[0m",
      "\u001b[0;31mIndexError\u001b[0m                                Traceback (most recent call last)",
      "Cell \u001b[0;32mIn[69], line 1\u001b[0m\n\u001b[0;32m----> 1\u001b[0m l[\u001b[38;5;241m10\u001b[39m]\n",
      "\u001b[0;31mIndexError\u001b[0m: list index out of range"
     ]
    }
   ],
   "source": [
    "l[10]"
   ]
  },
  {
   "cell_type": "code",
   "execution_count": 71,
   "id": "a0d6f694-5ced-43a6-8e24-677a36499d64",
   "metadata": {},
   "outputs": [
    {
     "data": {
      "text/plain": [
       "[]"
      ]
     },
     "execution_count": 71,
     "metadata": {},
     "output_type": "execute_result"
    }
   ],
   "source": [
    "l[10:]"
   ]
  },
  {
   "cell_type": "code",
   "execution_count": null,
   "id": "a24a1b9e-955e-49d3-838b-a77b12f5ff00",
   "metadata": {},
   "outputs": [],
   "source": [
    "not error didnt get output "
   ]
  },
  {
   "cell_type": "code",
   "execution_count": 73,
   "id": "266959e9-6290-4ea9-9e86-d2013cdd0fdc",
   "metadata": {},
   "outputs": [
    {
     "data": {
      "text/plain": [
       "[100, 20, 10, 20, 30, 40, 50, 60, 10]"
      ]
     },
     "execution_count": 73,
     "metadata": {},
     "output_type": "execute_result"
    }
   ],
   "source": [
    "l[:10]"
   ]
  },
  {
   "cell_type": "code",
   "execution_count": 75,
   "id": "608f31a7-2f31-467f-bbe6-6d5c2329ec86",
   "metadata": {},
   "outputs": [
    {
     "data": {
      "text/plain": [
       "10"
      ]
     },
     "execution_count": 75,
     "metadata": {},
     "output_type": "execute_result"
    }
   ],
   "source": [
    "l[-1]"
   ]
  },
  {
   "cell_type": "code",
   "execution_count": 77,
   "id": "7e0b1846-383b-413a-b347-6d932cfd591f",
   "metadata": {},
   "outputs": [
    {
     "ename": "NameError",
     "evalue": "name 'l2' is not defined",
     "output_type": "error",
     "traceback": [
      "\u001b[0;31m---------------------------------------------------------------------------\u001b[0m",
      "\u001b[0;31mNameError\u001b[0m                                 Traceback (most recent call last)",
      "Cell \u001b[0;32mIn[77], line 1\u001b[0m\n\u001b[0;32m----> 1\u001b[0m l\u001b[38;5;241m=\u001b[39ml2\u001b[38;5;241m.\u001b[39mcopy()\n\u001b[1;32m      2\u001b[0m l2\n",
      "\u001b[0;31mNameError\u001b[0m: name 'l2' is not defined"
     ]
    }
   ],
   "source": [
    "l=l2.copy()\n",
    "l2"
   ]
  },
  {
   "cell_type": "code",
   "execution_count": 79,
   "id": "b7875d0d-a179-4276-82f4-4d5fa377b8e9",
   "metadata": {},
   "outputs": [
    {
     "data": {
      "text/plain": [
       "[100, 20, 10, 20, 30, 40, 50, 60, 10]"
      ]
     },
     "execution_count": 79,
     "metadata": {},
     "output_type": "execute_result"
    }
   ],
   "source": [
    "l2=l.copy()\n",
    "l2"
   ]
  },
  {
   "cell_type": "code",
   "execution_count": 81,
   "id": "d003fa91-36cf-44e5-9980-100e6efb9a4a",
   "metadata": {},
   "outputs": [
    {
     "data": {
      "text/plain": [
       "[]"
      ]
     },
     "execution_count": 81,
     "metadata": {},
     "output_type": "execute_result"
    }
   ],
   "source": [
    "l2.clear()\n",
    "l2"
   ]
  },
  {
   "cell_type": "code",
   "execution_count": 83,
   "id": "022bcae4-5f68-4f11-9a25-f23b5595343c",
   "metadata": {},
   "outputs": [
    {
     "ename": "SyntaxError",
     "evalue": "invalid syntax (3881042735.py, line 1)",
     "output_type": "error",
     "traceback": [
      "\u001b[0;36m  Cell \u001b[0;32mIn[83], line 1\u001b[0;36m\u001b[0m\n\u001b[0;31m    del.l2\u001b[0m\n\u001b[0m       ^\u001b[0m\n\u001b[0;31mSyntaxError\u001b[0m\u001b[0;31m:\u001b[0m invalid syntax\n"
     ]
    }
   ],
   "source": [
    "del.l2\n",
    "l2"
   ]
  },
  {
   "cell_type": "code",
   "execution_count": null,
   "id": "53bc9da2-3ee3-4ee6-bec8-88849c336683",
   "metadata": {},
   "outputs": [],
   "source": [
    "It means l2 is cleared and deleted."
   ]
  },
  {
   "cell_type": "code",
   "execution_count": 85,
   "id": "75fb5d0e-2b6d-43f5-ac64-a4888dde19d5",
   "metadata": {},
   "outputs": [
    {
     "data": {
      "text/plain": [
       "[10, 20, 10, 20, 30, 40, 50, 60, 10, 3.2, True, (2+3j), 'nit', [1, 2, 3]]"
      ]
     },
     "execution_count": 85,
     "metadata": {},
     "output_type": "execute_result"
    }
   ],
   "source": [
    "l1"
   ]
  },
  {
   "cell_type": "code",
   "execution_count": 87,
   "id": "57f89e54-3e84-40b6-81f3-116a4f8e3071",
   "metadata": {},
   "outputs": [
    {
     "data": {
      "text/plain": [
       "14"
      ]
     },
     "execution_count": 87,
     "metadata": {},
     "output_type": "execute_result"
    }
   ],
   "source": [
    "len(l1)"
   ]
  },
  {
   "cell_type": "code",
   "execution_count": 89,
   "id": "c5ecc934-f079-44e0-8c57-1c0a2dba5541",
   "metadata": {},
   "outputs": [
    {
     "data": {
      "text/plain": [
       "[10, 40, True]"
      ]
     },
     "execution_count": 89,
     "metadata": {},
     "output_type": "execute_result"
    }
   ],
   "source": [
    "l1[0:14:5]"
   ]
  },
  {
   "cell_type": "code",
   "execution_count": 91,
   "id": "2e81ec4f-3ab4-4244-8acf-eaebad08bdc0",
   "metadata": {},
   "outputs": [
    {
     "data": {
      "text/plain": [
       "[10, 10, 30, 50, 10, True, 'nit']"
      ]
     },
     "execution_count": 91,
     "metadata": {},
     "output_type": "execute_result"
    }
   ],
   "source": [
    "l1[0:14:2]"
   ]
  },
  {
   "cell_type": "code",
   "execution_count": 93,
   "id": "9201bfe2-fdde-4f65-af6f-d3161950fb30",
   "metadata": {},
   "outputs": [
    {
     "data": {
      "text/plain": [
       "[10, 20, 50, 3.2, 'nit']"
      ]
     },
     "execution_count": 93,
     "metadata": {},
     "output_type": "execute_result"
    }
   ],
   "source": [
    "l1[0:14:3]"
   ]
  },
  {
   "cell_type": "code",
   "execution_count": 95,
   "id": "f6700991-138b-4f1f-8a33-b0d33b414d83",
   "metadata": {},
   "outputs": [
    {
     "ename": "SyntaxError",
     "evalue": "invalid syntax (2931843253.py, line 1)",
     "output_type": "error",
     "traceback": [
      "\u001b[0;36m  Cell \u001b[0;32mIn[95], line 1\u001b[0;36m\u001b[0m\n\u001b[0;31m    this is called step indexing\u001b[0m\n\u001b[0m                   ^\u001b[0m\n\u001b[0;31mSyntaxError\u001b[0m\u001b[0;31m:\u001b[0m invalid syntax\n"
     ]
    }
   ],
   "source": [
    "this is called step indexing  "
   ]
  },
  {
   "cell_type": "code",
   "execution_count": 97,
   "id": "cbb4408c-b3f9-48dc-bc84-c3594da07afa",
   "metadata": {},
   "outputs": [
    {
     "data": {
      "text/plain": [
       "12"
      ]
     },
     "execution_count": 97,
     "metadata": {},
     "output_type": "execute_result"
    }
   ],
   "source": [
    "l1.index('nit')"
   ]
  },
  {
   "cell_type": "code",
   "execution_count": null,
   "id": "b50d9067-7b24-4653-ab93-0b85d8282338",
   "metadata": {},
   "outputs": [],
   "source": [
    "it means 12th value is 'nit'. To know at which number it is use index function\n"
   ]
  },
  {
   "cell_type": "code",
   "execution_count": null,
   "id": "58d60c9d-7589-4a31-83cb-5f2d47205f1d",
   "metadata": {},
   "outputs": [],
   "source": []
  }
 ],
 "metadata": {
  "kernelspec": {
   "display_name": "Python [conda env:base] *",
   "language": "python",
   "name": "conda-base-py"
  },
  "language_info": {
   "codemirror_mode": {
    "name": "ipython",
    "version": 3
   },
   "file_extension": ".py",
   "mimetype": "text/x-python",
   "name": "python",
   "nbconvert_exporter": "python",
   "pygments_lexer": "ipython3",
   "version": "3.12.7"
  }
 },
 "nbformat": 4,
 "nbformat_minor": 5
}
